{
 "cells": [
  {
   "cell_type": "markdown",
   "metadata": {},
   "source": [
    "# Continuous Control Project\n",
    "\n",
    "---\n",
    "\n",
    "\n",
    "### 1. Start the Environment"
   ]
  },
  {
   "cell_type": "code",
   "execution_count": 1,
   "metadata": {},
   "outputs": [],
   "source": [
    "import torch\n",
    "import numpy as np\n",
    "import time\n",
    "from collections import deque\n",
    "import matplotlib.pyplot as plt\n",
    "%matplotlib inline"
   ]
  },
  {
   "cell_type": "code",
   "execution_count": 2,
   "metadata": {},
   "outputs": [],
   "source": [
    "from ddpg_agent import Agent, ReplayBuffer\n",
    "from unityagents import UnityEnvironment"
   ]
  },
  {
   "cell_type": "code",
   "execution_count": 3,
   "metadata": {},
   "outputs": [
    {
     "name": "stderr",
     "output_type": "stream",
     "text": [
      "INFO:unityagents:\n",
      "'Academy' started successfully!\n",
      "Unity Academy name: Academy\n",
      "        Number of Brains: 1\n",
      "        Number of External Brains : 1\n",
      "        Lesson number : 0\n",
      "        Reset Parameters :\n",
      "\t\tgoal_speed -> 1.0\n",
      "\t\tgoal_size -> 5.0\n",
      "Unity brain name: ReacherBrain\n",
      "        Number of Visual Observations (per agent): 0\n",
      "        Vector Observation space type: continuous\n",
      "        Vector Observation space size (per agent): 33\n",
      "        Number of stacked Vector Observation: 1\n",
      "        Vector Action space type: continuous\n",
      "        Vector Action space size (per agent): 4\n",
      "        Vector Action descriptions: , , , \n"
     ]
    }
   ],
   "source": [
    "env = UnityEnvironment(file_name='Reacher_Windows_x86_64/Reacher.exe')\n",
    "\n",
    "# get the default brain\n",
    "brain_name = env.brain_names[0]\n",
    "brain = env.brains[brain_name]"
   ]
  },
  {
   "cell_type": "markdown",
   "metadata": {},
   "source": [
    "## Examine the environment"
   ]
  },
  {
   "cell_type": "code",
   "execution_count": 4,
   "metadata": {},
   "outputs": [
    {
     "name": "stdout",
     "output_type": "stream",
     "text": [
      "Number of agents: 20\n",
      "Size of each action: 4\n",
      "There are 20 agents. Each observes a state with length: 33\n",
      "The state for the first agent looks like: [ 0.00000000e+00 -4.00000000e+00  0.00000000e+00  1.00000000e+00\n",
      " -0.00000000e+00 -0.00000000e+00 -4.37113883e-08  0.00000000e+00\n",
      "  0.00000000e+00  0.00000000e+00  0.00000000e+00  0.00000000e+00\n",
      "  0.00000000e+00  0.00000000e+00 -1.00000000e+01  0.00000000e+00\n",
      "  1.00000000e+00 -0.00000000e+00 -0.00000000e+00 -4.37113883e-08\n",
      "  0.00000000e+00  0.00000000e+00  0.00000000e+00  0.00000000e+00\n",
      "  0.00000000e+00  0.00000000e+00  5.75471878e+00 -1.00000000e+00\n",
      "  5.55726624e+00  0.00000000e+00  1.00000000e+00  0.00000000e+00\n",
      " -1.68164849e-01]\n"
     ]
    }
   ],
   "source": [
    "# reset the environment\n",
    "env_info = env.reset(train_mode=True)[brain_name]\n",
    "\n",
    "# number of agents\n",
    "num_agents = len(env_info.agents)\n",
    "print('Number of agents:', num_agents)\n",
    "\n",
    "# size of each action\n",
    "action_size = brain.vector_action_space_size\n",
    "print('Size of each action:', action_size)\n",
    "\n",
    "# examine the state space \n",
    "states = env_info.vector_observations\n",
    "state_size = states.shape[1]\n",
    "print('There are {} agents. Each observes a state with length: {}'.format(states.shape[0], state_size))\n",
    "print('The state for the first agent looks like:', states[0])"
   ]
  },
  {
   "cell_type": "markdown",
   "metadata": {},
   "source": [
    "## Initialize the agent"
   ]
  },
  {
   "cell_type": "code",
   "execution_count": 5,
   "metadata": {},
   "outputs": [
    {
     "name": "stderr",
     "output_type": "stream",
     "text": [
      "C:\\Anaconda3\\lib\\site-packages\\torch\\cuda\\__init__.py:116: UserWarning: \n",
      "    Found GPU1 NVS 310 which is of cuda capability 2.1.\n",
      "    PyTorch no longer supports this GPU because it is too old.\n",
      "    \n",
      "  warnings.warn(old_gpu_warn % (d, name, major, capability[1]))\n"
     ]
    }
   ],
   "source": [
    "# Initialize the agent\n",
    "agent = Agent(state_size=state_size, action_size=action_size, seed=1)"
   ]
  },
  {
   "cell_type": "markdown",
   "metadata": {},
   "source": [
    "## DDPG learning"
   ]
  },
  {
   "cell_type": "code",
   "execution_count": 6,
   "metadata": {},
   "outputs": [
    {
     "name": "stdout",
     "output_type": "stream",
     "text": [
      "Episode 1\tAverage Score: 0.67\tMean within episode: 0.67\tTrain Time: 26.57\n",
      "Episode 2\tAverage Score: 0.76\tMean within episode: 0.85\tTrain Time: 26.18\n",
      "Episode 3\tAverage Score: 0.85\tMean within episode: 1.03\tTrain Time: 25.83\n",
      "Episode 4\tAverage Score: 0.92\tMean within episode: 1.12\tTrain Time: 25.98\n",
      "Episode 5\tAverage Score: 0.99\tMean within episode: 1.25\tTrain Time: 26.06\n",
      "Episode 6\tAverage Score: 1.05\tMean within episode: 1.39\tTrain Time: 26.11\n",
      "Episode 7\tAverage Score: 1.09\tMean within episode: 1.27\tTrain Time: 26.05\n",
      "Episode 8\tAverage Score: 1.15\tMean within episode: 1.61\tTrain Time: 26.12\n",
      "Episode 9\tAverage Score: 1.22\tMean within episode: 1.73\tTrain Time: 26.01\n",
      "Episode 10\tAverage Score: 1.29\tMean within episode: 1.99\tTrain Time: 26.20\n",
      "Episode 11\tAverage Score: 1.33\tMean within episode: 1.73\tTrain Time: 26.10\n",
      "Episode 12\tAverage Score: 1.40\tMean within episode: 2.13\tTrain Time: 25.99\n",
      "Episode 13\tAverage Score: 1.50\tMean within episode: 2.70\tTrain Time: 26.12\n",
      "Episode 14\tAverage Score: 1.59\tMean within episode: 2.76\tTrain Time: 26.12\n",
      "Episode 15\tAverage Score: 1.66\tMean within episode: 2.61\tTrain Time: 26.11\n",
      "Episode 16\tAverage Score: 1.76\tMean within episode: 3.28\tTrain Time: 26.31\n",
      "Episode 17\tAverage Score: 1.85\tMean within episode: 3.28\tTrain Time: 26.22\n",
      "Episode 18\tAverage Score: 1.98\tMean within episode: 4.22\tTrain Time: 26.32\n",
      "Episode 19\tAverage Score: 2.13\tMean within episode: 4.77\tTrain Time: 26.31\n",
      "Episode 20\tAverage Score: 2.21\tMean within episode: 3.85\tTrain Time: 26.26\n",
      "Episode 21\tAverage Score: 2.36\tMean within episode: 5.32\tTrain Time: 26.23\n",
      "Episode 22\tAverage Score: 2.48\tMean within episode: 4.93\tTrain Time: 26.24\n",
      "Episode 23\tAverage Score: 2.62\tMean within episode: 5.64\tTrain Time: 26.22\n",
      "Episode 24\tAverage Score: 2.74\tMean within episode: 5.58\tTrain Time: 26.28\n",
      "Episode 25\tAverage Score: 2.82\tMean within episode: 4.87\tTrain Time: 26.21\n",
      "Episode 26\tAverage Score: 2.91\tMean within episode: 5.08\tTrain Time: 26.29\n",
      "Episode 27\tAverage Score: 2.98\tMean within episode: 4.66\tTrain Time: 26.21\n",
      "Episode 28\tAverage Score: 3.10\tMean within episode: 6.50\tTrain Time: 26.17\n",
      "Episode 29\tAverage Score: 3.24\tMean within episode: 6.99\tTrain Time: 26.28\n",
      "Episode 30\tAverage Score: 3.35\tMean within episode: 6.61\tTrain Time: 26.25\n",
      "Episode 31\tAverage Score: 3.52\tMean within episode: 8.66\tTrain Time: 26.24\n",
      "Episode 32\tAverage Score: 3.76\tMean within episode: 11.22\tTrain Time: 26.25\n",
      "Episode 33\tAverage Score: 4.01\tMean within episode: 11.84\tTrain Time: 26.37\n",
      "Episode 34\tAverage Score: 4.25\tMean within episode: 12.21\tTrain Time: 26.62\n",
      "Episode 35\tAverage Score: 4.55\tMean within episode: 14.93\tTrain Time: 26.45\n",
      "Episode 36\tAverage Score: 4.82\tMean within episode: 14.33\tTrain Time: 26.26\n",
      "Episode 37\tAverage Score: 5.11\tMean within episode: 15.36\tTrain Time: 26.27\n",
      "Episode 38\tAverage Score: 5.43\tMean within episode: 17.45\tTrain Time: 26.21\n",
      "Episode 39\tAverage Score: 5.78\tMean within episode: 18.88\tTrain Time: 26.25\n",
      "Episode 40\tAverage Score: 6.18\tMean within episode: 21.92\tTrain Time: 26.38\n",
      "Episode 41\tAverage Score: 6.59\tMean within episode: 23.03\tTrain Time: 35.52\n",
      "Episode 42\tAverage Score: 7.01\tMean within episode: 24.10\tTrain Time: 38.90\n",
      "Episode 43\tAverage Score: 7.41\tMean within episode: 24.21\tTrain Time: 39.11\n",
      "Episode 44\tAverage Score: 7.84\tMean within episode: 26.20\tTrain Time: 38.67\n",
      "Episode 45\tAverage Score: 8.25\tMean within episode: 26.33\tTrain Time: 38.25\n",
      "Episode 46\tAverage Score: 8.69\tMean within episode: 28.53\tTrain Time: 38.25\n",
      "Episode 47\tAverage Score: 9.18\tMean within episode: 31.64\tTrain Time: 38.94\n",
      "Episode 48\tAverage Score: 9.59\tMean within episode: 29.22\tTrain Time: 39.06\n",
      "Episode 49\tAverage Score: 10.07\tMean within episode: 32.79\tTrain Time: 38.50\n",
      "Episode 50\tAverage Score: 10.51\tMean within episode: 31.92\tTrain Time: 38.37\n",
      "Episode 51\tAverage Score: 10.94\tMean within episode: 32.60\tTrain Time: 38.56\n",
      "Episode 52\tAverage Score: 11.36\tMean within episode: 32.84\tTrain Time: 38.36\n",
      "Episode 53\tAverage Score: 11.76\tMean within episode: 32.44\tTrain Time: 38.51\n",
      "Episode 54\tAverage Score: 12.16\tMean within episode: 33.38\tTrain Time: 38.14\n",
      "Episode 55\tAverage Score: 12.54\tMean within episode: 33.25\tTrain Time: 38.45\n",
      "Episode 56\tAverage Score: 12.86\tMean within episode: 30.29\tTrain Time: 38.84\n",
      "Episode 57\tAverage Score: 13.16\tMean within episode: 30.06\tTrain Time: 38.79\n",
      "Episode 58\tAverage Score: 13.49\tMean within episode: 32.09\tTrain Time: 38.91\n",
      "Episode 59\tAverage Score: 13.86\tMean within episode: 35.50\tTrain Time: 38.36\n",
      "Episode 60\tAverage Score: 14.21\tMean within episode: 35.10\tTrain Time: 38.28\n",
      "Episode 61\tAverage Score: 14.52\tMean within episode: 32.82\tTrain Time: 38.25\n",
      "Episode 62\tAverage Score: 14.81\tMean within episode: 32.43\tTrain Time: 38.03\n",
      "Episode 63\tAverage Score: 15.10\tMean within episode: 33.14\tTrain Time: 38.37\n",
      "Episode 64\tAverage Score: 15.38\tMean within episode: 32.84\tTrain Time: 38.27\n",
      "Episode 65\tAverage Score: 15.65\tMean within episode: 33.24\tTrain Time: 38.44\n",
      "Episode 66\tAverage Score: 15.93\tMean within episode: 34.38\tTrain Time: 38.49\n",
      "Episode 67\tAverage Score: 16.21\tMean within episode: 34.56\tTrain Time: 38.08\n",
      "Episode 68\tAverage Score: 16.45\tMean within episode: 32.71\tTrain Time: 38.32\n",
      "Episode 69\tAverage Score: 16.71\tMean within episode: 34.25\tTrain Time: 38.16\n",
      "Episode 70\tAverage Score: 16.94\tMean within episode: 32.97\tTrain Time: 38.14\n",
      "Episode 71\tAverage Score: 17.18\tMean within episode: 33.65\tTrain Time: 38.25\n",
      "Episode 72\tAverage Score: 17.42\tMean within episode: 34.14\tTrain Time: 38.10\n",
      "Episode 73\tAverage Score: 17.64\tMean within episode: 33.46\tTrain Time: 38.20\n",
      "Episode 74\tAverage Score: 17.85\tMean within episode: 33.71\tTrain Time: 38.68\n",
      "Episode 75\tAverage Score: 18.05\tMean within episode: 32.90\tTrain Time: 38.65\n",
      "Episode 76\tAverage Score: 18.25\tMean within episode: 32.95\tTrain Time: 39.90\n",
      "Episode 77\tAverage Score: 18.45\tMean within episode: 33.86\tTrain Time: 39.98\n",
      "Episode 78\tAverage Score: 18.66\tMean within episode: 34.62\tTrain Time: 38.71\n",
      "Episode 79\tAverage Score: 18.86\tMean within episode: 34.33\tTrain Time: 38.76\n",
      "Episode 80\tAverage Score: 19.07\tMean within episode: 35.62\tTrain Time: 37.97\n",
      "Episode 81\tAverage Score: 19.27\tMean within episode: 35.20\tTrain Time: 38.60\n",
      "Episode 82\tAverage Score: 19.49\tMean within episode: 37.45\tTrain Time: 38.75\n",
      "Episode 83\tAverage Score: 19.70\tMean within episode: 36.70\tTrain Time: 38.05\n",
      "Episode 84\tAverage Score: 19.89\tMean within episode: 36.34\tTrain Time: 38.51\n",
      "Episode 85\tAverage Score: 20.09\tMean within episode: 36.57\tTrain Time: 38.23\n",
      "Episode 86\tAverage Score: 20.28\tMean within episode: 36.27\tTrain Time: 37.90\n",
      "Episode 87\tAverage Score: 20.47\tMean within episode: 37.10\tTrain Time: 38.27\n",
      "Episode 88\tAverage Score: 20.66\tMean within episode: 37.32\tTrain Time: 38.03\n",
      "Episode 89\tAverage Score: 20.86\tMean within episode: 37.93\tTrain Time: 37.99\n",
      "Episode 90\tAverage Score: 21.04\tMean within episode: 36.92\tTrain Time: 38.26\n",
      "Episode 91\tAverage Score: 21.21\tMean within episode: 36.62\tTrain Time: 38.11\n",
      "Episode 92\tAverage Score: 21.36\tMean within episode: 35.39\tTrain Time: 38.43\n",
      "Episode 93\tAverage Score: 21.52\tMean within episode: 35.72\tTrain Time: 38.15\n",
      "Episode 94\tAverage Score: 21.68\tMean within episode: 36.77\tTrain Time: 38.34\n",
      "Episode 95\tAverage Score: 21.83\tMean within episode: 36.20\tTrain Time: 38.24\n",
      "Episode 96\tAverage Score: 21.96\tMean within episode: 34.43\tTrain Time: 30.51\n",
      "Episode 97\tAverage Score: 22.10\tMean within episode: 35.46\tTrain Time: 26.63\n",
      "Episode 98\tAverage Score: 22.25\tMean within episode: 36.73\tTrain Time: 26.74\n",
      "Episode 99\tAverage Score: 22.40\tMean within episode: 37.37\tTrain Time: 26.26\n",
      "Episode 100\tAverage Score: 22.55\tMean within episode: 37.60\tTrain Time: 26.35\n",
      "Episode 101\tAverage Score: 22.91\tMean within episode: 36.32\tTrain Time: 26.29\n",
      "Episode 102\tAverage Score: 23.27\tMean within episode: 36.33\tTrain Time: 26.34\n",
      "Episode 103\tAverage Score: 23.60\tMean within episode: 34.92\tTrain Time: 26.35\n",
      "Episode 104\tAverage Score: 23.96\tMean within episode: 36.75\tTrain Time: 26.25\n",
      "Episode 105\tAverage Score: 24.32\tMean within episode: 37.23\tTrain Time: 26.43\n",
      "Episode 106\tAverage Score: 24.68\tMean within episode: 37.79\tTrain Time: 26.31\n",
      "Episode 107\tAverage Score: 25.04\tMean within episode: 36.66\tTrain Time: 26.49\n",
      "Episode 108\tAverage Score: 25.40\tMean within episode: 37.81\tTrain Time: 26.41\n"
     ]
    },
    {
     "name": "stdout",
     "output_type": "stream",
     "text": [
      "Episode 109\tAverage Score: 25.76\tMean within episode: 37.30\tTrain Time: 26.32\n",
      "Episode 110\tAverage Score: 26.10\tMean within episode: 36.34\tTrain Time: 26.34\n",
      "Episode 111\tAverage Score: 26.46\tMean within episode: 38.10\tTrain Time: 26.37\n",
      "Episode 112\tAverage Score: 26.82\tMean within episode: 37.35\tTrain Time: 26.26\n",
      "Episode 113\tAverage Score: 27.17\tMean within episode: 37.80\tTrain Time: 29.67\n",
      "Episode 114\tAverage Score: 27.49\tMean within episode: 35.20\tTrain Time: 28.53\n",
      "Episode 115\tAverage Score: 27.82\tMean within episode: 35.96\tTrain Time: 31.84\n",
      "Episode 116\tAverage Score: 28.15\tMean within episode: 35.92\tTrain Time: 26.28\n",
      "Episode 117\tAverage Score: 28.49\tMean within episode: 37.21\tTrain Time: 26.24\n",
      "Episode 118\tAverage Score: 28.80\tMean within episode: 35.09\tTrain Time: 26.32\n",
      "Episode 119\tAverage Score: 29.10\tMean within episode: 35.31\tTrain Time: 26.27\n",
      "Episode 120\tAverage Score: 29.42\tMean within episode: 35.16\tTrain Time: 26.27\n",
      "Episode 121\tAverage Score: 29.72\tMean within episode: 35.95\tTrain Time: 26.30\n",
      "Episode 122\tAverage Score: 30.01\tMean within episode: 33.55\tTrain Time: 26.28\n",
      "Problem Solved after 122 epsisodes!! Average score: 30.01\n"
     ]
    }
   ],
   "source": [
    "def ddpg(n_episodes=2000, max_t=1000, print_every=10, update_every=20, num_update=10, goal_score=30, parNum = 1):\n",
    "    scores_deque = deque(maxlen=100)\n",
    "    scores_all = []\n",
    "    \n",
    "    for i_episode in range(1, n_episodes+1):\n",
    "        # Reset Env and Agent\n",
    "        env_info = env.reset(train_mode=True)[brain_name]       # reset the environment    \n",
    "        states = env_info.vector_observations                   # get the current state (for each agent)\n",
    "        scores = np.zeros(num_agents)                            # initialize the score (for each agent)\n",
    "        agent.reset()\n",
    "        \n",
    "        # Record the start time of one episode\n",
    "        start_time = time.time()\n",
    "        for t in range(max_t):\n",
    "            # Take the actions based on the actor network of the agent\n",
    "            actions = agent.act(states)\n",
    "            env_info = env.step(actions)[brain_name]            # send all actions to the environment\n",
    "            next_states = env_info.vector_observations          # get next state (for each agent)\n",
    "            rewards = env_info.rewards                          # get reward (for each agent)\n",
    "            dones = env_info.local_done                         # see if episode finished\n",
    "            \n",
    "            # send the state-action-reward pair to the agent\n",
    "            for state, action, reward, next_state, done in zip(states, actions, rewards, next_states, dones):\n",
    "                agent.step(state, action, reward, next_state, done) \n",
    "            \n",
    "            scores += env_info.rewards                           # update the score (for each agent)\n",
    "            states = next_states                                # roll over states to next time step\n",
    "            \n",
    "            # Update the network regularly\n",
    "            if t%update_every == 0:\n",
    "                for _ in range(num_update):\n",
    "                    agent.start_learn()\n",
    "            # exit loop if episode finished\n",
    "            if np.any(dones):                                   \n",
    "                break\n",
    "    \n",
    "        mean_score = np.mean(scores)\n",
    "        \n",
    "        scores_deque.append(mean_score)\n",
    "        scores_all.append(mean_score)\n",
    "        average_score = np.mean(scores_deque)\n",
    "        duration = time.time() - start_time\n",
    "        \n",
    "        print('\\rEpisode {}\\tAverage Score: {:.2f}\\tMean within episode: {:.2f}\\tTrain Time: {:.2f}'\n",
    "              .format(i_episode, average_score, mean_score, duration))\n",
    "        if average_score >= goal_score and i_episode >= 100:\n",
    "            print('Problem Solved after {} epsisodes!! Average score: {:.2f}'.format(i_episode, average_score))\n",
    "            torch.save(agent.actorNet_local.state_dict(), 'actor_net.pth')\n",
    "            torch.save(agent.criticNet_local.state_dict(), 'critic_net.pth')\n",
    "            break\n",
    "    \n",
    "    return scores_all\n",
    "\n",
    "scores = ddpg()"
   ]
  },
  {
   "cell_type": "code",
   "execution_count": 7,
   "metadata": {},
   "outputs": [
    {
     "data": {
      "image/png": "[encoded data removed]",
      "text/plain": [
       "<matplotlib.figure.Figure at 0x1ee9c605c18>"
      ]
     },
     "metadata": {
      "needs_background": "light"
     },
     "output_type": "display_data"
    }
   ],
   "source": [
    "fig = plt.figure()\n",
    "ax = fig.add_subplot(111)\n",
    "plt.plot(np.arange(len(scores)), scores)\n",
    "plt.ylabel('Score')\n",
    "plt.xlabel('Episode #')\n",
    "plt.show()\n",
    "fig.savefig('score_vs_episode.jpg',dpi = 300)\n",
    "plt.close()"
   ]
  },
  {
   "cell_type": "code",
   "execution_count": null,
   "metadata": {},
   "outputs": [],
   "source": []
  }
 ],
 "metadata": {
  "kernelspec": {
   "display_name": "Python 3",
   "language": "python",
   "name": "python3"
  },
  "language_info": {
   "codemirror_mode": {
    "name": "ipython",
    "version": 3
   },
   "file_extension": ".py",
   "mimetype": "text/x-python",
   "name": "python",
   "nbconvert_exporter": "python",
   "pygments_lexer": "ipython3",
   "version": "3.6.3"
  }
 },
 "nbformat": 4,
 "nbformat_minor": 2
}
